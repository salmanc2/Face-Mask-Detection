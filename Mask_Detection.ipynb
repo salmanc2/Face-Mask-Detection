{
  "nbformat": 4,
  "nbformat_minor": 0,
  "metadata": {
    "colab": {
      "name": "Mask Detection",
      "provenance": [],
      "toc_visible": true
    },
    "kernelspec": {
      "display_name": "Python 3",
      "language": "python",
      "name": "python3"
    },
    "language_info": {
      "codemirror_mode": {
        "name": "ipython",
        "version": 3
      },
      "file_extension": ".py",
      "mimetype": "text/x-python",
      "name": "python",
      "nbconvert_exporter": "python",
      "pygments_lexer": "ipython3",
      "version": "3.7.4"
    }
  },
  "cells": [
    {
      "cell_type": "markdown",
      "metadata": {
        "id": "7k19cUcXWGsK"
      },
      "source": [
        "# The Dataset\n",
        "\n",
        "The dataset consisted of 1376 images, 690 face images with masks and 686 without masks. The original dataset is prepared by [Prajna Bhandary](https://www.linkedin.com/in/prajna-bhandary-0b03a416a/) and available at [Github](https://github.com/prajnasb/observations/tree/master/experiements/data)\n",
        "\n",
        "![dataset.png](attachment:dataset.png)"
      ]
    },
    {
      "cell_type": "code",
      "metadata": {
        "colab": {
          "base_uri": "https://localhost:8080/"
        },
        "id": "oH0GvtK6Xtq_",
        "outputId": "ffd7d207-dca5-4824-b529-d389a64b2b6d"
      },
      "source": [
        "from google.colab import drive\n",
        "drive.mount('/content/drive')"
      ],
      "execution_count": null,
      "outputs": [
        {
          "output_type": "stream",
          "text": [
            "Mounted at /content/drive\n"
          ],
          "name": "stdout"
        }
      ]
    },
    {
      "cell_type": "markdown",
      "metadata": {
        "id": "_YIounC1WGsZ"
      },
      "source": [
        "# Data Preprocessing\n",
        "![pre.png](attachment:pre.png)"
      ]
    },
    {
      "cell_type": "code",
      "metadata": {
        "colab": {
          "base_uri": "https://localhost:8080/"
        },
        "id": "nmCK_KAXWGsb",
        "outputId": "91c4ccee-f2a1-4f69-e4d2-aacec0c93b6c"
      },
      "source": [
        "import cv2,os\n",
        "\n",
        "data_path='/content/drive/MyDrive/Work/experiements/data'\n",
        "categories=os.listdir(data_path)\n",
        "labels=[i for i in range(len(categories))]\n",
        "\n",
        "label_dict=dict(zip(categories,labels)) #empty dictionary\n",
        "\n",
        "print(label_dict)\n",
        "print(categories)\n",
        "print(labels)"
      ],
      "execution_count": null,
      "outputs": [
        {
          "output_type": "stream",
          "text": [
            "{'without_mask': 0, 'with_mask': 1}\n",
            "['without_mask', 'with_mask']\n",
            "[0, 1]\n"
          ],
          "name": "stdout"
        }
      ]
    },
    {
      "cell_type": "code",
      "metadata": {
        "id": "jMB3HfZMWGse"
      },
      "source": [
        "img_size=100\n",
        "data=[]\n",
        "target=[]\n",
        "\n",
        "\n",
        "for category in categories:\n",
        "    folder_path=os.path.join(data_path,category)\n",
        "    img_names=os.listdir(folder_path)\n",
        "        \n",
        "    for img_name in img_names:\n",
        "        img_path=os.path.join(folder_path,img_name)\n",
        "        img=cv2.imread(img_path)\n",
        "\n",
        "        try:\n",
        "            gray=cv2.cvtColor(img,cv2.COLOR_BGR2GRAY)           \n",
        "            #Coverting the image into gray scale\n",
        "            resized=cv2.resize(gray,(img_size,img_size))\n",
        "            #resizing the gray scale into 50x50, since we need a fixed common size for all the images in the dataset\n",
        "            data.append(resized)\n",
        "            target.append(label_dict[category])\n",
        "            #appending the image and the label(categorized) into the list (dataset)\n",
        "\n",
        "        except Exception as e:\n",
        "            print('Exception:',e)\n",
        "            #if any exception rasied, the exception will be printed here. And pass to the next image"
      ],
      "execution_count": null,
      "outputs": []
    },
    {
      "cell_type": "code",
      "metadata": {
        "id": "Wa1yuEJrWGsg"
      },
      "source": [
        "import numpy as np\n",
        "\n",
        "data=np.array(data)/255.0\n",
        "data=np.reshape(data,(data.shape[0],img_size,img_size,1))\n",
        "target=np.array(target)\n",
        "\n",
        "from keras.utils import np_utils\n",
        "\n",
        "new_target=np_utils.to_categorical(target)"
      ],
      "execution_count": null,
      "outputs": []
    },
    {
      "cell_type": "code",
      "metadata": {
        "id": "k1oAarPcWGsh"
      },
      "source": [
        "np.save('data',data)\n",
        "np.save('target',new_target)"
      ],
      "execution_count": null,
      "outputs": []
    },
    {
      "cell_type": "code",
      "metadata": {
        "id": "jtqMP0mCWGsi"
      },
      "source": [
        "import numpy as np\n",
        "\n",
        "data=np.load('data.npy')\n",
        "target=np.load('target.npy')\n",
        "\n",
        "#loading the save numpy arrays in the previous code"
      ],
      "execution_count": null,
      "outputs": []
    },
    {
      "cell_type": "code",
      "metadata": {
        "id": "JKuZbB_EaotM"
      },
      "source": [
        "from keras.layers import Dense,Activation,Flatten,Dropout\n",
        "from keras.layers import Conv2D,MaxPooling2D\n",
        "from keras.callbacks import ModelCheckpoint\n",
        "from keras.models import Sequential\n",
        "\n",
        "model=Sequential()\n",
        "\n",
        "model.add(Conv2D(200,(3,3),input_shape=data.shape[1:]))\n",
        "model.add(Activation('relu'))\n",
        "model.add(MaxPooling2D(pool_size=(2,2)))\n",
        "#The first CNN layer followed by Relu and MaxPooling layers\n",
        "\n",
        "model.add(Conv2D(100,(3,3)))\n",
        "model.add(Activation('relu'))\n",
        "model.add(MaxPooling2D(pool_size=(2,2)))\n",
        "#The second convolution layer followed by Relu and MaxPooling layers\n",
        "\n",
        "model.add(Flatten())\n",
        "model.add(Dropout(0.5))\n",
        "#Flatten layer to stack the output convolutions from second convolution layer\n",
        "model.add(Dense(50,activation='relu'))\n",
        "#Dense layer of 64 neurons\n",
        "model.add(Dense(2,activation='softmax'))\n",
        "#The Final layer with two outputs for two categories\n",
        "\n",
        "model.compile(loss='categorical_crossentropy',optimizer='adam',metrics=['accuracy'])"
      ],
      "execution_count": null,
      "outputs": []
    },
    {
      "cell_type": "code",
      "metadata": {
        "id": "CD3q8Z5zar2Q"
      },
      "source": [
        "from sklearn.model_selection import train_test_split\n",
        "\n",
        "train_data,test_data,train_target,test_target=train_test_split(data,target,test_size=0.1)"
      ],
      "execution_count": null,
      "outputs": []
    },
    {
      "cell_type": "code",
      "metadata": {
        "colab": {
          "base_uri": "https://localhost:8080/"
        },
        "id": "P0dqgsaxa_Fh",
        "outputId": "ef86b298-fdca-49a6-d508-3f5aa9b11908"
      },
      "source": [
        "checkpoint = ModelCheckpoint('model-{epoch:03d}.model',monitor='val_loss',verbose=0,save_best_only=True,mode='auto')\n",
        "history=model.fit(train_data,train_target,epochs=20,callbacks=[checkpoint],validation_split=0.2)\n"
      ],
      "execution_count": null,
      "outputs": [
        {
          "output_type": "stream",
          "text": [
            "Epoch 1/20\n",
            "31/31 [==============================] - 68s 2s/step - loss: 0.8313 - accuracy: 0.4972 - val_loss: 0.6928 - val_accuracy: 0.5847\n",
            "INFO:tensorflow:Assets written to: model-001.model/assets\n",
            "Epoch 2/20\n",
            "31/31 [==============================] - 66s 2s/step - loss: 0.6870 - accuracy: 0.5978 - val_loss: 0.5767 - val_accuracy: 0.7581\n",
            "INFO:tensorflow:Assets written to: model-002.model/assets\n",
            "Epoch 3/20\n",
            "31/31 [==============================] - 69s 2s/step - loss: 0.5545 - accuracy: 0.7195 - val_loss: 0.3993 - val_accuracy: 0.8347\n",
            "INFO:tensorflow:Assets written to: model-003.model/assets\n",
            "Epoch 4/20\n",
            "31/31 [==============================] - 66s 2s/step - loss: 0.4562 - accuracy: 0.7694 - val_loss: 0.2909 - val_accuracy: 0.8710\n",
            "INFO:tensorflow:Assets written to: model-004.model/assets\n",
            "Epoch 5/20\n",
            "31/31 [==============================] - 66s 2s/step - loss: 0.2537 - accuracy: 0.9016 - val_loss: 0.2027 - val_accuracy: 0.9315\n",
            "INFO:tensorflow:Assets written to: model-005.model/assets\n",
            "Epoch 6/20\n",
            "31/31 [==============================] - 67s 2s/step - loss: 0.1988 - accuracy: 0.9284 - val_loss: 0.1745 - val_accuracy: 0.9435\n",
            "INFO:tensorflow:Assets written to: model-006.model/assets\n",
            "Epoch 7/20\n",
            "31/31 [==============================] - 66s 2s/step - loss: 0.1455 - accuracy: 0.9481 - val_loss: 0.1610 - val_accuracy: 0.9234\n",
            "INFO:tensorflow:Assets written to: model-007.model/assets\n",
            "Epoch 8/20\n",
            "31/31 [==============================] - 66s 2s/step - loss: 0.1281 - accuracy: 0.9614 - val_loss: 0.1402 - val_accuracy: 0.9234\n",
            "INFO:tensorflow:Assets written to: model-008.model/assets\n",
            "Epoch 9/20\n",
            "31/31 [==============================] - 66s 2s/step - loss: 0.0722 - accuracy: 0.9725 - val_loss: 0.1416 - val_accuracy: 0.9355\n",
            "Epoch 10/20\n",
            "31/31 [==============================] - 66s 2s/step - loss: 0.0717 - accuracy: 0.9711 - val_loss: 0.1350 - val_accuracy: 0.9476\n",
            "INFO:tensorflow:Assets written to: model-010.model/assets\n",
            "Epoch 11/20\n",
            "31/31 [==============================] - 66s 2s/step - loss: 0.0721 - accuracy: 0.9705 - val_loss: 0.1502 - val_accuracy: 0.9476\n",
            "Epoch 12/20\n",
            "31/31 [==============================] - 66s 2s/step - loss: 0.0565 - accuracy: 0.9819 - val_loss: 0.2154 - val_accuracy: 0.9355\n",
            "Epoch 13/20\n",
            "31/31 [==============================] - 66s 2s/step - loss: 0.0601 - accuracy: 0.9826 - val_loss: 0.1352 - val_accuracy: 0.9476\n",
            "Epoch 14/20\n",
            "31/31 [==============================] - 66s 2s/step - loss: 0.0274 - accuracy: 0.9928 - val_loss: 0.1259 - val_accuracy: 0.9597\n",
            "INFO:tensorflow:Assets written to: model-014.model/assets\n",
            "Epoch 15/20\n",
            "31/31 [==============================] - 66s 2s/step - loss: 0.0330 - accuracy: 0.9890 - val_loss: 0.1395 - val_accuracy: 0.9556\n",
            "Epoch 16/20\n",
            "31/31 [==============================] - 66s 2s/step - loss: 0.0331 - accuracy: 0.9869 - val_loss: 0.1595 - val_accuracy: 0.9556\n",
            "Epoch 17/20\n",
            "31/31 [==============================] - 66s 2s/step - loss: 0.0170 - accuracy: 0.9911 - val_loss: 0.1363 - val_accuracy: 0.9597\n",
            "Epoch 18/20\n",
            "31/31 [==============================] - 66s 2s/step - loss: 0.0362 - accuracy: 0.9869 - val_loss: 0.1974 - val_accuracy: 0.9435\n",
            "Epoch 19/20\n",
            "31/31 [==============================] - 66s 2s/step - loss: 0.0260 - accuracy: 0.9932 - val_loss: 0.2205 - val_accuracy: 0.9435\n",
            "Epoch 20/20\n",
            "31/31 [==============================] - 66s 2s/step - loss: 0.0250 - accuracy: 0.9909 - val_loss: 0.1741 - val_accuracy: 0.9274\n"
          ],
          "name": "stdout"
        }
      ]
    },
    {
      "cell_type": "code",
      "metadata": {
        "colab": {
          "base_uri": "https://localhost:8080/",
          "height": 279
        },
        "id": "ctunOrCbbCqT",
        "outputId": "8252441f-b10c-44fb-9182-b172aaf5ebc5"
      },
      "source": [
        "from matplotlib import pyplot as plt\n",
        "\n",
        "plt.plot(history.history['loss'],'r',label='training loss')\n",
        "plt.plot(history.history['val_loss'],label='validation loss')\n",
        "plt.xlabel('# epochs')\n",
        "plt.ylabel('loss')\n",
        "plt.legend()\n",
        "plt.show()"
      ],
      "execution_count": null,
      "outputs": [
        {
          "output_type": "display_data",
          "data": {
            "image/png": "[encoded data removed]",
            "text/plain": [
              "<Figure size 432x288 with 1 Axes>"
            ]
          },
          "metadata": {
            "tags": [],
            "needs_background": "light"
          }
        }
      ]
    },
    {
      "cell_type": "code",
      "metadata": {
        "colab": {
          "base_uri": "https://localhost:8080/",
          "height": 279
        },
        "id": "BJIZm6hUhjb-",
        "outputId": "d582fec2-7303-4cd4-9009-f3f2ce82351c"
      },
      "source": [
        "plt.plot(history.history['accuracy'],'r',label='training accuracy')\n",
        "plt.plot(history.history['val_accuracy'],label='validation accuracy')\n",
        "plt.xlabel('# epochs')\n",
        "plt.ylabel('loss')\n",
        "plt.legend()\n",
        "plt.show()"
      ],
      "execution_count": null,
      "outputs": [
        {
          "output_type": "display_data",
          "data": {
            "image/png": "[encoded data removed]",
            "text/plain": [
              "<Figure size 432x288 with 1 Axes>"
            ]
          },
          "metadata": {
            "tags": [],
            "needs_background": "light"
          }
        }
      ]
    },
    {
      "cell_type": "code",
      "metadata": {
        "id": "pvrEdFceiKDw"
      },
      "source": [
        "from keras.models import load_model\n",
        "import cv2\n",
        "import numpy as np"
      ],
      "execution_count": null,
      "outputs": []
    },
    {
      "cell_type": "code",
      "metadata": {
        "id": "14iJtbdkhlom"
      },
      "source": [
        "model = load_model('/content/model-014.model')"
      ],
      "execution_count": null,
      "outputs": []
    },
    {
      "cell_type": "code",
      "metadata": {
        "id": "4-x8cgJ0rOa7"
      },
      "source": [
        "from IPython.display import display, Javascript\n",
        "from google.colab.output import eval_js\n",
        "from base64 import b64decode, b64encode\n",
        "import numpy as np\n",
        "\n",
        "def init_camera():\n",
        "  \"\"\"Create objects and functions in HTML/JavaScript to access local web camera\"\"\"\n",
        "\n",
        "  js = Javascript('''\n",
        "\n",
        "    // global variables to use in both functions\n",
        "    var div = null;\n",
        "    var video = null;   // <video> to display stream from local webcam\n",
        "    var stream = null;  // stream from local webcam\n",
        "    var canvas = null;  // <canvas> for single frame from <video> and convert frame to JPG\n",
        "    var img = null;     // <img> to display JPG after processing with `cv2`\n",
        "\n",
        "    async function initCamera() {\n",
        "      // place for video (and eventually buttons)\n",
        "      div = document.createElement('div');\n",
        "      document.body.appendChild(div);\n",
        "\n",
        "      // <video> to display video\n",
        "      video = document.createElement('video');\n",
        "      video.style.display = 'block';\n",
        "      div.appendChild(video);\n",
        "\n",
        "      // get webcam stream and assing to <video>\n",
        "      stream = await navigator.mediaDevices.getUserMedia({video: true});\n",
        "      video.srcObject = stream;\n",
        "\n",
        "      // start playing stream from webcam in <video>\n",
        "      await video.play();\n",
        "\n",
        "      // Resize the output to fit the video element.\n",
        "      google.colab.output.setIframeHeight(document.documentElement.scrollHeight, true);\n",
        "\n",
        "      // <canvas> for frame from <video>\n",
        "      canvas = document.createElement('canvas');\n",
        "      canvas.width = video.videoWidth;\n",
        "      canvas.height = video.videoHeight;\n",
        "      //div.appendChild(input_canvas); // there is no need to display to get image (but you can display it for test)\n",
        "\n",
        "      // <img> for image after processing with `cv2`\n",
        "      img = document.createElement('img');\n",
        "      img.width = video.videoWidth;\n",
        "      img.height = video.videoHeight;\n",
        "      div.appendChild(img);\n",
        "    }\n",
        "\n",
        "    async function takeImage(quality) {\n",
        "      // draw frame from <video> on <canvas>\n",
        "      canvas.getContext('2d').drawImage(video, 0, 0);\n",
        "\n",
        "      // stop webcam stream\n",
        "      //stream.getVideoTracks()[0].stop();\n",
        "\n",
        "      // get data from <canvas> as JPG image decoded base64 and with header \"data:image/jpg;base64,\"\n",
        "      return canvas.toDataURL('image/jpeg', quality);\n",
        "      //return canvas.toDataURL('image/png', quality);\n",
        "    }\n",
        "\n",
        "    async function showImage(image) {\n",
        "      // it needs string \"data:image/jpg;base64,JPG-DATA-ENCODED-BASE64\"\n",
        "      // it will replace previous image in `<img src=\"\">`\n",
        "      img.src = image;\n",
        "      // TODO: create <img> if doesn't exists, \n",
        "      // TODO: use `id` to use different `<img>` for different image - like `name` in `cv2.imshow(name, image)`\n",
        "    }\n",
        "\n",
        "  ''')\n",
        "\n",
        "  display(js)\n",
        "  eval_js('initCamera()')\n",
        "\n",
        "def take_frame(quality=0.8):\n",
        "  \"\"\"Get frame from web camera\"\"\"\n",
        "\n",
        "  data = eval_js('takeImage({})'.format(quality))  # run JavaScript code to get image (JPG as string base64) from <canvas>\n",
        "\n",
        "  header, data = data.split(',')  # split header (\"data:image/jpg;base64,\") and base64 data (JPG)\n",
        "  data = b64decode(data)  # decode base64\n",
        "  data = np.frombuffer(data, dtype=np.uint8)  # create numpy array with JPG data\n",
        "\n",
        "  img = cv2.imdecode(data, cv2.IMREAD_UNCHANGED)  # uncompress JPG data to array of pixels\n",
        "\n",
        "  return img\n",
        "\n",
        "def show_frame(img, quality=0.8):\n",
        "  \"\"\"Put frame as <img src=\"data:image/jpg;base64,....\"> \"\"\"\n",
        "\n",
        "  ret, data = cv2.imencode('.jpg', img)  # compress array of pixels to JPG data\n",
        "\n",
        "  data = b64encode(data)  # encode base64\n",
        "  data = data.decode()  # convert bytes to string\n",
        "  data = 'data:image/jpg;base64,' + data  # join header (\"data:image/jpg;base64,\") and base64 data (JPG)\n",
        "\n",
        "  eval_js('showImage(\"{}\")'.format(data))  # run JavaScript code to put image (JPG as string base64) in <img>\n",
        "                                           # argument in `showImage` needs `\" \"` "
      ],
      "execution_count": 1,
      "outputs": []
    },
    {
      "cell_type": "code",
      "metadata": {
        "id": "zl3Q-XX0ss_d"
      },
      "source": [
        "import cv2\n",
        "import os\n",
        "\n",
        "face_cascade = cv2.CascadeClassifier(os.path.join(cv2.data.haarcascades, '/content/drive/MyDrive/Work/face-mask-detection-keras-master/haarcascade_frontalface_default.xml'))"
      ],
      "execution_count": null,
      "outputs": []
    },
    {
      "cell_type": "code",
      "metadata": {
        "id": "J3uWHKIps8xZ"
      },
      "source": [
        "labels_dict={1:'MASK',0:'NO MASK'}\n",
        "color_dict={0:(0,255,0),1:(0,0,255)}"
      ],
      "execution_count": null,
      "outputs": []
    },
    {
      "cell_type": "code",
      "metadata": {
        "colab": {
          "base_uri": "https://localhost:8080/",
          "height": 981
        },
        "id": "Jycxyyrzrrkh",
        "outputId": "94759cf2-95bc-41a4-b538-e77094b5f77e"
      },
      "source": [
        " \n",
        "init_camera()\n",
        "\n",
        "while True:\n",
        "    try:\n",
        "        img = take_frame()\n",
        "\n",
        "        gray = cv2.cvtColor(img, cv2.COLOR_BGR2GRAY)\n",
        "        #cv2_imshow(gray)  # it creates new image for every frame (it doesn't replace previous image) so it is useless\n",
        "        #show_frame(gray)  # it replace previous image\n",
        "\n",
        "        faces = face_cascade.detectMultiScale(gray, 1.1, 4)\n",
        "\n",
        "        for (x, y, w, h) in faces:\n",
        "                  face_img=gray[y:y+w,x:x+w]\n",
        "                  resized=cv2.resize(face_img,(100,100))\n",
        "                  normalized=resized/255.0\n",
        "                  reshaped=np.reshape(normalized,(1,100,100,1))\n",
        "                  result=model.predict(reshaped)\n",
        "\n",
        "                  label=np.argmax(result,axis=1)[0]\n",
        "                \n",
        "                  cv2.rectangle(img,(x,y),(x+w,y+h),color_dict[label],2)\n",
        "                  cv2.rectangle(img,(x,y-40),(x+w,y),color_dict[label],-1)\n",
        "                  cv2.putText(img, labels_dict[label], (x, y-10),cv2.FONT_HERSHEY_SIMPLEX,0.8,(255,255,255),2)\n",
        "        \n",
        "        #cv2_imshow(img)  # it creates new image for every frame (it doesn't replace previous image) so it is useless\n",
        "        show_frame(img)  # it replace previous image\n",
        "        \n",
        "    except Exception as err:\n",
        "        print('Exception:', err)"
      ],
      "execution_count": null,
      "outputs": [
        {
          "output_type": "display_data",
          "data": {
            "application/javascript": [
              "\n",
              "\n",
              "    // global variables to use in both functions\n",
              "    var div = null;\n",
              "    var video = null;   // <video> to display stream from local webcam\n",
              "    var stream = null;  // stream from local webcam\n",
              "    var canvas = null;  // <canvas> for single frame from <video> and convert frame to JPG\n",
              "    var img = null;     // <img> to display JPG after processing with `cv2`\n",
              "\n",
              "    async function initCamera() {\n",
              "      // place for video (and eventually buttons)\n",
              "      div = document.createElement('div');\n",
              "      document.body.appendChild(div);\n",
              "\n",
              "      // <video> to display video\n",
              "      video = document.createElement('video');\n",
              "      video.style.display = 'block';\n",
              "      div.appendChild(video);\n",
              "\n",
              "      // get webcam stream and assing to <video>\n",
              "      stream = await navigator.mediaDevices.getUserMedia({video: true});\n",
              "      video.srcObject = stream;\n",
              "\n",
              "      // start playing stream from webcam in <video>\n",
              "      await video.play();\n",
              "\n",
              "      // Resize the output to fit the video element.\n",
              "      google.colab.output.setIframeHeight(document.documentElement.scrollHeight, true);\n",
              "\n",
              "      // <canvas> for frame from <video>\n",
              "      canvas = document.createElement('canvas');\n",
              "      canvas.width = video.videoWidth;\n",
              "      canvas.height = video.videoHeight;\n",
              "      //div.appendChild(input_canvas); // there is no need to display to get image (but you can display it for test)\n",
              "\n",
              "      // <img> for image after processing with `cv2`\n",
              "      img = document.createElement('img');\n",
              "      img.width = video.videoWidth;\n",
              "      img.height = video.videoHeight;\n",
              "      div.appendChild(img);\n",
              "    }\n",
              "\n",
              "    async function takeImage(quality) {\n",
              "      // draw frame from <video> on <canvas>\n",
              "      canvas.getContext('2d').drawImage(video, 0, 0);\n",
              "\n",
              "      // stop webcam stream\n",
              "      //stream.getVideoTracks()[0].stop();\n",
              "\n",
              "      // get data from <canvas> as JPG image decoded base64 and with header \"data:image/jpg;base64,\"\n",
              "      return canvas.toDataURL('image/jpeg', quality);\n",
              "      //return canvas.toDataURL('image/png', quality);\n",
              "    }\n",
              "\n",
              "    async function showImage(image) {\n",
              "      // it needs string \"data:image/jpg;base64,JPG-DATA-ENCODED-BASE64\"\n",
              "      // it will replace previous image in `<img src=\"\">`\n",
              "      img.src = image;\n",
              "      // TODO: create <img> if doesn't exists, \n",
              "      // TODO: use `id` to use different `<img>` for different image - like `name` in `cv2.imshow(name, image)`\n",
              "    }\n",
              "\n",
              "  "
            ],
            "text/plain": [
              "<IPython.core.display.Javascript object>"
            ]
          },
          "metadata": {
            "tags": []
          }
        }
      ]
    },
    {
      "cell_type": "code",
      "metadata": {
        "id": "9cxX1eS1tap6"
      },
      "source": [
        ""
      ],
      "execution_count": null,
      "outputs": []
    }
  ]
}